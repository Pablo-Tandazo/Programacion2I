{
 "cells": [
  {
   "cell_type": "markdown",
   "metadata": {},
   "source": [
    "# Evaluación Final - Python para Ciencia de Datos\n",
    "\n",
    "**Nombre del Estudiante: Pablo Tandazo\n",
    "\n",
    "**Fecha:** 04/07/2025\n",
    "\n",
    "**Duración:** 2 horas\n",
    "\n",
    "---\n",
    "\n",
    "### **Instrucciones Generales**\n",
    "\n",
    "1.  **Lea atentamente** cada ejercicio antes de empezar a codificar.\n",
    "2.  Escriba su código únicamente en las celdas designadas con `# Tu código aquí`.\n",
    "3.  **Ejecute sus celdas** para asegurarse de que el código funciona y produce el resultado esperado.\n",
    "4.  Puede consultar la documentación oficial de Python, NumPy, Pandas y Matplotlib. No se permite el uso de foros (Stack Overflow) ni herramientas de IA.\n",
    "5.  Al finalizar, **guarde el notebook** y súbalo a la plataforma Moodle."
   ]
  },
  {
   "cell_type": "markdown",
   "metadata": {},
   "source": [
    "--- \n",
    "## Sección 1: Fundamentos de Python (Aprox. 45 minutos) 🐍"
   ]
  },
  {
   "cell_type": "markdown",
   "metadata": {},
   "source": [
    "### Ejercicio 1: Manipulación de Listas y Funciones\n",
    "\n",
    "Crea una función que reciba una lista de números. La función debe devolver un **diccionario** con las siguientes claves y valores:\n",
    "- `mayor`: El número más alto de la lista.\n",
    "- `menor`: El número más bajo de la lista.\n",
    "- `suma`: La suma de todos los números.\n",
    "- `promedio`: El promedio de los números.\n",
    "- `orden_desc`: La lista ordenada de forma descendente."
   ]
  },
  {
   "cell_type": "code",
   "execution_count": 6,
   "metadata": {},
   "outputs": [
    {
     "name": "stdout",
     "output_type": "stream",
     "text": [
      "{'mayor': 97, 'menor': 5, 'suma': 250, 'promedio': 35.714285714285715, 'orden_desc': [97, 60, 42, 23, 15, 8, 5]}\n"
     ]
    }
   ],
   "source": [
    "def analizar_numeros(lista_numeros):\n",
    "    # Tu código aquí\n",
    "    mayor=max(lista_numeros)\n",
    "    menor=min(lista_numeros)\n",
    "    suma=sum(lista_numeros)\n",
    "    promedio=suma/len(lista_numeros)\n",
    "    orden_desc=sorted(lista_numeros, reverse=True) \n",
    "\n",
    "    return{\"mayor\": mayor,\n",
    "        \"menor\": menor,\n",
    "        \"suma\": suma,\n",
    "        \"promedio\": promedio,\n",
    "        \"orden_desc\": orden_desc}\n",
    "    \n",
    "# Código de prueba (no modificar)\n",
    "numeros = [15, 42, 8, 97, 23, 5, 60]\n",
    "resultado = analizar_numeros(numeros)\n",
    "print(resultado)"
   ]
  },
  {
   "cell_type": "markdown",
   "metadata": {},
   "source": [
    "### Ejercicio 2: Diccionarios y Lógica Condicional\n",
    "\n",
    "Dado el diccionario de calificaciones, escribe un script que itere sobre él y cree un nuevo diccionario llamado `estado_alumnos`. Este nuevo diccionario debe tener dos claves: `Aprobados` y `Reprobados`. Cada clave debe contener una lista de los nombres de los estudiantes que cumplen esa condición (nota >= 7 para aprobar)."
   ]
  },
  {
   "cell_type": "code",
   "execution_count": 11,
   "metadata": {},
   "outputs": [
    {
     "name": "stdout",
     "output_type": "stream",
     "text": [
      "{'Aprobados': ['Ana', 'Pedro', 'Julia'], 'Reprobados': ['Luis', 'Marta', 'Carlos']}\n"
     ]
    }
   ],
   "source": [
    "calificaciones = {\n",
    "    'Ana': 9,\n",
    "    'Luis': 6.5,\n",
    "    'Pedro': 8,\n",
    "    'Marta': 5,\n",
    "    'Julia': 10,\n",
    "    'Carlos': 4\n",
    "}\n",
    "\n",
    "estado_alumnos = {\n",
    "    'Aprobados': [],\n",
    "    'Reprobados': []\n",
    "}\n",
    "\n",
    "# Tu código aquí\n",
    "for alumno, nota in calificaciones.items():\n",
    "    if nota >=7:\n",
    "        estado_alumnos[\"Aprobados\"].append(alumno)\n",
    "    else:\n",
    "        estado_alumnos[\"Reprobados\"].append(alumno)\n",
    "\n",
    "print(estado_alumnos)"
   ]
  },
  {
   "cell_type": "markdown",
   "metadata": {},
   "source": [
    "--- \n",
    "## Sección 2: Análisis de Datos con NumPy (Aprox. 45 minutos) 🔢"
   ]
  },
  {
   "cell_type": "markdown",
   "metadata": {},
   "source": [
    "### Ejercicio 3: Creación y Operaciones con Arrays\n",
    "\n",
    "1.  Crea una matriz NumPy de 6x6 con números enteros aleatorios entre 1 y 50.\n",
    "2.  Calcula e imprime la suma de todos los elementos, el valor promedio de la matriz y la desviación estándar.\n",
    "3.  Extrae y muestra la tercera columna completa de la matriz (índice 2)."
   ]
  },
  {
   "cell_type": "code",
   "execution_count": 12,
   "metadata": {},
   "outputs": [
    {
     "name": "stdout",
     "output_type": "stream",
     "text": [
      "Matriz Original:\n",
      "[[26  9  5 23  7 47]\n",
      " [ 5 22 10 40 31  5]\n",
      " [ 7  6 25 19  5 15]\n",
      " [25 32  8 13 20 42]\n",
      " [ 1 19 37  7  5  1]\n",
      " [23 44 12 45  2 19]]\n",
      "\n",
      "--------------------\n",
      "\n",
      "Suma de todos los elementos: 662\n",
      "Promedio de la matriz: 18.38888888888889\n",
      "Desciacion est: 13.705793134003548\n",
      "\n",
      "--------------------\n",
      "\n",
      "tercera columna (indice 2):\n",
      "[ 5 10 25  8 37 12]\n"
     ]
    }
   ],
   "source": [
    "import numpy as np\n",
    "\n",
    "# 1. Crear la matriz\n",
    "# Tu código aquí\n",
    "import numpy as np \n",
    "matriz = np.random.randint(1,51, size=(6,6))\n",
    "print(\"Matriz Original:\")\n",
    "print(matriz)\n",
    "print('\\n' + '-'*20 + '\\n')\n",
    "\n",
    "# 2. Calcular estadísticas\n",
    "# Tu código aquí\n",
    "suma_total=np.sum(matriz)\n",
    "promedio = np.mean(matriz)\n",
    "desviacion= np.std(matriz)\n",
    "\n",
    "print(f\"Suma de todos los elementos: {suma_total}\")\n",
    "print(F\"Promedio de la matriz: {promedio}\")\n",
    "print(f\"Desciacion est: {desviacion}\")\n",
    "\n",
    "print('\\n' + '-'*20 + '\\n')\n",
    "\n",
    "# 3. Extraer tercera columna\n",
    "# Tu código aquí\n",
    "tercera_columna = matriz [:,2]\n",
    "print(\"tercera columna (indice 2):\")\n",
    "print(tercera_columna)\n"
   ]
  },
  {
   "cell_type": "markdown",
   "metadata": {},
   "source": [
    "--- \n",
    "## Sección 3: Manipulación de Datos con Pandas (Aprox. 1.5 horas) 🐼\n"
   ]
  },
  {
   "cell_type": "markdown",
   "metadata": {},
   "source": [
    "### Ejercicio 4: Carga y Limpieza de Datos\n",
    "\n",
    "1. Carga el archivo `ventas.csv` en un DataFrame de Pandas.\n",
    "2. Muestra las primeras 7 filas y un resumen estadístico (`.describe()`).\n",
    "3. Identifica y cuenta los valores nulos por columna.\n",
    "4. Rellena los valores nulos de la columna `Ventas` con el promedio de esa misma columna."
   ]
  },
  {
   "cell_type": "code",
   "execution_count": 29,
   "metadata": {},
   "outputs": [
    {
     "name": "stdout",
     "output_type": "stream",
     "text": [
      "Columnas disponibles:\n",
      "Index(['Fecha', 'Ciudad', 'Producto', 'Ventas', 'Costo'], dtype='object')\n",
      "\n",
      "Primeras 7 filas del DataFrame:\n",
      "        Fecha     Ciudad Producto  Ventas  Costo\n",
      "0  2023-01-15      Quito   Laptop  1200.0    900\n",
      "1  2023-01-17  Guayaquil  Teclado   150.0     80\n",
      "2  2023-02-10      Quito    Mouse    50.0     25\n",
      "3  2023-02-12     Cuenca   Laptop  1300.0    950\n",
      "4  2023-03-20  Guayaquil   Laptop  1250.0    920\n",
      "5  2023-03-22      Quito  Teclado     NaN     75\n",
      "6  2024-04-05     Cuenca    Mouse    60.0     30\n",
      "\n",
      "Resumen estadístico:\n",
      "            Ventas       Costo\n",
      "count     9.000000   10.000000\n",
      "mean    502.777778  331.300000\n",
      "std     566.199562  412.480585\n",
      "min      50.000000   25.000000\n",
      "25%      60.000000   41.250000\n",
      "50%     160.000000   82.500000\n",
      "75%    1200.000000  730.000000\n",
      "max    1300.000000  950.000000\n",
      "\n",
      "Valores nulos por columna:\n",
      "Fecha       0\n",
      "Ciudad      0\n",
      "Producto    0\n",
      "Ventas      1\n",
      "Costo       0\n",
      "dtype: int64\n",
      "Nulos después del relleno:\n",
      "Fecha       0\n",
      "Ciudad      0\n",
      "Producto    0\n",
      "Ventas      0\n",
      "Costo       0\n",
      "dtype: int64\n"
     ]
    },
    {
     "name": "stderr",
     "output_type": "stream",
     "text": [
      "C:\\Users\\ZOIN\\AppData\\Local\\Temp\\ipykernel_22048\\2365064558.py:23: FutureWarning: A value is trying to be set on a copy of a DataFrame or Series through chained assignment using an inplace method.\n",
      "The behavior will change in pandas 3.0. This inplace method will never work because the intermediate object on which we are setting values always behaves as a copy.\n",
      "\n",
      "For example, when doing 'df[col].method(value, inplace=True)', try using 'df.method({col: value}, inplace=True)' or df[col] = df[col].method(value) instead, to perform the operation inplace on the original object.\n",
      "\n",
      "\n",
      "  df['Ventas'].fillna(promedio_ventas, inplace=True)\n"
     ]
    }
   ],
   "source": [
    "import pandas as pd\n",
    "\n",
    "# 1. Cargar el archivo\n",
    "# Tu código aquí\n",
    "df = pd.read_csv(\"ventas.csv\")\n",
    "print(\"Columnas disponibles:\")\n",
    "print(df.columns)\n",
    "\n",
    "# 2. Mostrar primeras filas y descripción\n",
    "# Tu código aquí\n",
    "print(\"\\nPrimeras 7 filas del DataFrame:\")\n",
    "print(df.head(7))\n",
    "print(\"\\nResumen estadístico:\")\n",
    "print(df.describe())\n",
    "# 3. Identificar y contar nulos\n",
    "# Tu código aquí\n",
    "print(\"\\nValores nulos por columna:\")\n",
    "print(df.isnull().sum())\n",
    "\n",
    "# 4. Rellenar valores nulos\n",
    "# Tu código aquí\n",
    "promedio_ventas = df['Ventas'].mean()\n",
    "df['Ventas'].fillna(promedio_ventas, inplace=True)\n",
    "# Verificación final de nulos\n",
    "print(\"Nulos después del relleno:\")\n",
    "print(df.isnull().sum())"
   ]
  },
  {
   "cell_type": "markdown",
   "metadata": {},
   "source": [
    "### Ejercicio 5: Filtrado y Agrupación de Datos\n",
    "\n",
    "Usando el DataFrame del ejercicio anterior:\n",
    "1. Filtra y muestra todas las ventas realizadas en la ciudad de \"Quito\".\n",
    "2. Calcula el total de ventas (`Ventas`) por cada `Producto`.\n",
    "3. Agrupa los datos por `Ciudad` y `Producto` y calcula el promedio de `Ventas`."
   ]
  },
  {
   "cell_type": "code",
   "execution_count": 34,
   "metadata": {},
   "outputs": [
    {
     "name": "stdout",
     "output_type": "stream",
     "text": [
      "Ventas en Quito:\n",
      "        Fecha Ciudad Producto       Ventas  Costo\n",
      "0  2023-01-15  Quito   Laptop  1200.000000    900\n",
      "2  2023-02-10  Quito    Mouse    50.000000     25\n",
      "5  2023-03-22  Quito  Teclado   502.777778     75\n",
      "7  2024-04-15  Quito  Monitor   300.000000    220\n",
      "\n",
      "Total de ventas por producto:\n",
      "Producto\n",
      "Laptop     3750.000000\n",
      "Monitor     300.000000\n",
      "Mouse       165.000000\n",
      "Teclado     812.777778\n",
      "Name: Ventas, dtype: float64\n",
      "\n",
      "Promedio de ventas por ciudad y producto:\n",
      "Ciudad     Producto\n",
      "Cuenca     Laptop      1300.000000\n",
      "           Mouse         60.000000\n",
      "           Teclado      160.000000\n",
      "Guayaquil  Laptop      1250.000000\n",
      "           Mouse         55.000000\n",
      "           Teclado      150.000000\n",
      "Quito      Laptop      1200.000000\n",
      "           Monitor      300.000000\n",
      "           Mouse         50.000000\n",
      "           Teclado      502.777778\n",
      "Name: Ventas, dtype: float64\n"
     ]
    }
   ],
   "source": [
    "# 1. Filtrar ventas en Quito\n",
    "# Tu código aquí\n",
    "ventas_quito = df[df['Ciudad'] == 'Quito']\n",
    "print(\"Ventas en Quito:\")\n",
    "print(ventas_quito)\n",
    "\n",
    "# 2. Calcular total de ventas por producto\n",
    "# Tu código aquí\n",
    "total_ventas_producto = df.groupby('Producto')['Ventas'].sum()\n",
    "print(\"\\nTotal de ventas por producto:\")\n",
    "print(total_ventas_producto)\n",
    "\n",
    "\n",
    "\n",
    "# 3. Agrupar por ciudad y producto\n",
    "# Tu código aquí\n",
    "promedio_ventas = df.groupby(['Ciudad', 'Producto'])['Ventas'].mean()\n",
    "print(\"\\nPromedio de ventas por ciudad y producto:\")\n",
    "print(promedio_ventas)"
   ]
  },
  {
   "cell_type": "markdown",
   "metadata": {},
   "source": [
    "### Ejercicio 6: Creación de Nuevas Columnas\n",
    "\n",
    "1. Crea una nueva columna llamada `Ganancia` que sea la resta de `Ventas` - `Costo`.\n",
    "2. Encuentra y muestra la fila completa de la venta que generó la **mayor ganancia**."
   ]
  },
  {
   "cell_type": "code",
   "execution_count": 35,
   "metadata": {},
   "outputs": [
    {
     "name": "stdout",
     "output_type": "stream",
     "text": [
      "Venta con mayor ganancia:\n",
      "        Fecha Ciudad Producto      Ventas  Costo    Ganancia\n",
      "5  2023-03-22  Quito  Teclado  502.777778     75  427.777778\n"
     ]
    }
   ],
   "source": [
    "# 1. Crear la columna Ganancia\n",
    "# Tu código aquí\n",
    "df['Ganancia'] = df['Ventas'] - df['Costo']\n",
    "\n",
    "# 2. Encontrar la mayor ganancia\n",
    "# Tu código aquí\n",
    "mayor_ganancia = df[df['Ganancia'] == df['Ganancia'].max()]\n",
    "print(\"Venta con mayor ganancia:\")\n",
    "print(mayor_ganancia)"
   ]
  },
  {
   "cell_type": "markdown",
   "metadata": {},
   "source": [
    "--- \n",
    "## Sección 4: Visualización de Datos con Matplotlib (Aprox. 1 hora) 📊"
   ]
  },
  {
   "cell_type": "markdown",
   "metadata": {},
   "source": [
    "### Ejercicio 7: Gráfico de Barras\n",
    "\n",
    "Crea un gráfico de barras que muestre el total de ventas (`Ventas`) por `Ciudad`. \n",
    "Asegúrate de que el gráfico tenga:\n",
    "- Un título: \"Total de Ventas por Ciudad\".\n",
    "- Una etiqueta para el eje X: \"Ciudad\".\n",
    "- Una etiqueta para el eje Y: \"Total Ventas\"."
   ]
  },
  {
   "cell_type": "code",
   "execution_count": 36,
   "metadata": {},
   "outputs": [
    {
     "data": {
      "image/png": "[encoded data removed]",
      "text/plain": [
       "<Figure size 640x480 with 1 Axes>"
      ]
     },
     "metadata": {},
     "output_type": "display_data"
    }
   ],
   "source": [
    "import matplotlib.pyplot as plt\n",
    "\n",
    "# Primero, calcula los datos a graficar (total de ventas por ciudad)\n",
    "# Tu código aquí\n",
    "ventas_por_ciudad = df.groupby('Ciudad')['Ventas'].sum()\n",
    " \n",
    "\n",
    "# Ahora, crea el gráfico de barras\n",
    "# Tu código aquí\n",
    "ventas_por_ciudad.plot(kind='bar')\n",
    "\n",
    "plt.title(\"Total de Ventas por Ciudad\")\n",
    "plt.xlabel(\"Ciudad\")\n",
    "plt.ylabel(\"Total Ventas\")\n",
    "\n",
    "plt.show()"
   ]
  },
  {
   "cell_type": "markdown",
   "metadata": {},
   "source": [
    "### Ejercicio 8: Gráfico de Líneas\n",
    "\n",
    "1. Convierte la columna `Fecha` del DataFrame a formato `datetime`.\n",
    "2. Ordena el DataFrame por fecha de más antigua a más reciente.\n",
    "3. Crea un gráfico de líneas que muestre la evolución de las `Ventas` a lo largo del tiempo. \n",
    "4. Personaliza el gráfico con un título, etiquetas para los ejes y marcadores en cada punto de datos."
   ]
  },
  {
   "cell_type": "code",
   "execution_count": 37,
   "metadata": {},
   "outputs": [
    {
     "data": {
      "image/png": "[encoded data removed]",
      "text/plain": [
       "<Figure size 640x480 with 1 Axes>"
      ]
     },
     "metadata": {},
     "output_type": "display_data"
    }
   ],
   "source": [
    "import matplotlib.pyplot as plt\n",
    "import pandas as pd\n",
    "# 1. Convertir columna a datetime\n",
    "# Tu código aquí\n",
    "df[\"Fecha\"]=pd.to_datetime(df[\"Fecha\"])\n",
    "\n",
    "# 2. Ordenar DataFrame por fecha\n",
    "# Tu código aquí\n",
    "df=df.sort_values(\"Fecha\")\n",
    "\n",
    "# 3. Crear el gráfico de líneas\n",
    "# Tu código aquí\n",
    "plt.plot(df[\"Fecha\"], df[\"Ventas\"], marker=\"o\")\n",
    "plt.title(\"Evolucion de ventas a largo del timepo\")\n",
    "plt.xlabel(\"Fecha\")\n",
    "plt.ylabel(\"Ventas\")\n",
    "plt.grid(True)\n",
    "\n",
    "plt.show()"
   ]
  },
  {
   "cell_type": "code",
   "execution_count": null,
   "metadata": {},
   "outputs": [],
   "source": []
  }
 ],
 "metadata": {
  "kernelspec": {
   "display_name": "Python [conda env:base] *",
   "language": "python",
   "name": "conda-base-py"
  },
  "language_info": {
   "codemirror_mode": {
    "name": "ipython",
    "version": 3
   },
   "file_extension": ".py",
   "mimetype": "text/x-python",
   "name": "python",
   "nbconvert_exporter": "python",
   "pygments_lexer": "ipython3",
   "version": "3.13.5"
  }
 },
 "nbformat": 4,
 "nbformat_minor": 4
}
